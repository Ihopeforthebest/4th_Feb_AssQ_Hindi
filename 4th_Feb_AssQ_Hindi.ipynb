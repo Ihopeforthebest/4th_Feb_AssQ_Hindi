{
 "cells": [
  {
   "cell_type": "code",
   "execution_count": 2,
   "id": "e978058d-52e3-45c4-9e1b-ad8639364c11",
   "metadata": {},
   "outputs": [],
   "source": [
    "# Q1. ) Create a python program to sort the given list of tuples based on integer value using a\n",
    "# lambda function.\n",
    "# [('Sachin Tendulkar', 34357), ('Ricky Ponting', 27483), ('Jack Kallis', 25534), ('Virat Kohli', 24936)]"
   ]
  },
  {
   "cell_type": "code",
   "execution_count": 9,
   "id": "686ea4a9-033d-4909-89d5-ce53274ef843",
   "metadata": {},
   "outputs": [],
   "source": [
    "# Ans. 1)"
   ]
  },
  {
   "cell_type": "code",
   "execution_count": 6,
   "id": "fe0aa061-d555-4aa5-982a-bd3404255543",
   "metadata": {},
   "outputs": [
    {
     "name": "stdout",
     "output_type": "stream",
     "text": [
      "[('Virat Kohli', 24936), ('Jack Kallis', 25534), ('Ricky Ponting', 27483), ('Sachin Tendulkar', 34357)]\n"
     ]
    }
   ],
   "source": [
    "lst = [('Sachin Tendulkar', 34357), ('Ricky Ponting', 27483), ('Jack Kallis', 25534), ('Virat Kohli', 24936)]\n",
    "\n",
    "sorted_lst = sorted(lst, key = lambda x: x[1])\n",
    "\n",
    "print(sorted_lst)"
   ]
  },
  {
   "cell_type": "code",
   "execution_count": null,
   "id": "91b8f33b-3edc-4669-9d8c-692ecc6775af",
   "metadata": {},
   "outputs": [],
   "source": []
  },
  {
   "cell_type": "code",
   "execution_count": null,
   "id": "7c01f0c4-505e-400e-973a-f6f8bbc82111",
   "metadata": {},
   "outputs": [],
   "source": []
  },
  {
   "cell_type": "code",
   "execution_count": null,
   "id": "5873104c-43e2-49c8-b679-a1b675696147",
   "metadata": {},
   "outputs": [],
   "source": []
  },
  {
   "cell_type": "code",
   "execution_count": 7,
   "id": "69b05053-47b2-407c-9e4b-050860ee0d23",
   "metadata": {},
   "outputs": [],
   "source": [
    "# Q2. ) Write a Python Program to find the squares of all the numbers in the given list of integers using\n",
    "# lambda and map functions.\n",
    "# [1, 2, 3, 4, 5, 6, 7, 8, 9, 10]"
   ]
  },
  {
   "cell_type": "code",
   "execution_count": 8,
   "id": "97d67ca8-e3ac-42b3-a8fb-9336d999548e",
   "metadata": {},
   "outputs": [],
   "source": [
    "# Ans. 2)"
   ]
  },
  {
   "cell_type": "code",
   "execution_count": 13,
   "id": "55383fa8-6740-44ad-a05f-27c04a27b763",
   "metadata": {},
   "outputs": [
    {
     "name": "stdout",
     "output_type": "stream",
     "text": [
      "[1, 4, 9, 16, 25, 36, 49, 64, 81, 100]\n"
     ]
    }
   ],
   "source": [
    "lst = [1, 2, 3, 4, 5, 6, 7, 8, 9, 10]\n",
    "\n",
    "new_lst = list(map(lambda x : x**2, lst))\n",
    "\n",
    "print(new_lst)"
   ]
  },
  {
   "cell_type": "code",
   "execution_count": null,
   "id": "e21d6d43-1897-478b-aa00-c5b5782baca5",
   "metadata": {},
   "outputs": [],
   "source": []
  },
  {
   "cell_type": "code",
   "execution_count": null,
   "id": "b7ff6a7a-56f7-4e5a-b6ed-886ff2102372",
   "metadata": {},
   "outputs": [],
   "source": []
  },
  {
   "cell_type": "code",
   "execution_count": null,
   "id": "5ea7f1bb-2949-4ba5-b768-88309be38606",
   "metadata": {},
   "outputs": [],
   "source": []
  },
  {
   "cell_type": "code",
   "execution_count": 14,
   "id": "09235fbb-cd10-4871-835f-22aecdc4cc4e",
   "metadata": {},
   "outputs": [],
   "source": [
    "# Q3. Write a python program to convert the given list of integers into a tuple of strings. Use map and\n",
    "# lambda functions\n",
    "# Given String: [1, 2, 3, 4, 5, 6, 7, 8, 9, 10]\n",
    "# Expected output: ('1', '2', '3', '4', '5', '6', '7', '8', '9', '10')"
   ]
  },
  {
   "cell_type": "code",
   "execution_count": 15,
   "id": "0ec0232a-1585-4a16-9bb3-9e4a552feb6d",
   "metadata": {},
   "outputs": [],
   "source": [
    "# Ans. 3)"
   ]
  },
  {
   "cell_type": "code",
   "execution_count": 29,
   "id": "975889d0-eeb8-4b0e-bb90-49751145ab2f",
   "metadata": {},
   "outputs": [
    {
     "name": "stdout",
     "output_type": "stream",
     "text": [
      "('1', '2', '3', '4', '5', '6', '7', '8', '9', '10')\n"
     ]
    }
   ],
   "source": [
    "lst = [1, 2, 3, 4, 5, 6, 7, 8, 9, 10]\n",
    "\n",
    "output = tuple(map(lambda x : str(lst[x]), range(len(lst))))\n",
    "\n",
    "print(output)"
   ]
  },
  {
   "cell_type": "code",
   "execution_count": null,
   "id": "a9d83513-34f0-4faa-9938-89f313a0420e",
   "metadata": {},
   "outputs": [],
   "source": []
  },
  {
   "cell_type": "code",
   "execution_count": null,
   "id": "49a53d44-a0cc-4485-a260-29e0b963ca6a",
   "metadata": {},
   "outputs": [],
   "source": []
  },
  {
   "cell_type": "code",
   "execution_count": null,
   "id": "175a8071-c314-48ea-b9de-b4d5f9c80cf8",
   "metadata": {},
   "outputs": [],
   "source": []
  },
  {
   "cell_type": "code",
   "execution_count": 31,
   "id": "d90d98f6-135c-45c8-bfd8-3452f34e0c79",
   "metadata": {},
   "outputs": [],
   "source": [
    "# Q4. Write a python program using reduce function to compute the product of a list containing numbers\n",
    "# from 1 to 25."
   ]
  },
  {
   "cell_type": "code",
   "execution_count": null,
   "id": "776f4845-e909-4cb4-91cf-9d4aecc9d0bf",
   "metadata": {},
   "outputs": [],
   "source": [
    "# Ans. 4)"
   ]
  },
  {
   "cell_type": "code",
   "execution_count": 36,
   "id": "d192e39f-a6b2-48af-882b-8f611f3e36a9",
   "metadata": {},
   "outputs": [
    {
     "data": {
      "text/plain": [
       "15511210043330985984000000"
      ]
     },
     "execution_count": 36,
     "metadata": {},
     "output_type": "execute_result"
    }
   ],
   "source": [
    "lst1 = []\n",
    "for i in range (1,26) :\n",
    "    lst1.append(i)\n",
    "\n",
    "from functools import reduce\n",
    "\n",
    "reduce(lambda x, y : x*y, lst1)"
   ]
  },
  {
   "cell_type": "code",
   "execution_count": null,
   "id": "d414a25c-afef-40da-813c-ce6e11f4ead6",
   "metadata": {},
   "outputs": [],
   "source": []
  },
  {
   "cell_type": "code",
   "execution_count": null,
   "id": "de6635f8-f615-4a16-9fce-c0fdcc7b71fc",
   "metadata": {},
   "outputs": [],
   "source": []
  },
  {
   "cell_type": "code",
   "execution_count": null,
   "id": "bd0747c5-0b06-4e7b-9062-32fb77aff952",
   "metadata": {},
   "outputs": [],
   "source": []
  },
  {
   "cell_type": "code",
   "execution_count": 37,
   "id": "9c7faf40-b452-45e9-9eb3-6d634a9f7651",
   "metadata": {},
   "outputs": [],
   "source": [
    "# Q5. Write a python program to filter the numbers in a given list that are divisible by 2 and 3 using the\n",
    "# filter function.\n",
    "# [2, 3, 6, 9, 27, 60, 90, 120, 55, 46]"
   ]
  },
  {
   "cell_type": "code",
   "execution_count": 38,
   "id": "100bbc4c-04d6-4e45-8336-9a0438eab70b",
   "metadata": {},
   "outputs": [],
   "source": [
    "# Ans. 5)"
   ]
  },
  {
   "cell_type": "code",
   "execution_count": 41,
   "id": "b4ecaa59-6e6f-4d7b-9dd5-71c8e4c57a4c",
   "metadata": {},
   "outputs": [
    {
     "name": "stdout",
     "output_type": "stream",
     "text": [
      "[6, 60, 90, 120]\n"
     ]
    }
   ],
   "source": [
    "lst1 = [2, 3, 6, 9, 27, 60, 90, 120, 55, 46]\n",
    "\n",
    "numb = list(filter(lambda x : (x%2 == 0 and x%3 == 0), lst1))\n",
    "\n",
    "print(numb)"
   ]
  },
  {
   "cell_type": "code",
   "execution_count": null,
   "id": "98d8ef97-8285-4269-b0cb-580ad5faf103",
   "metadata": {},
   "outputs": [],
   "source": []
  },
  {
   "cell_type": "code",
   "execution_count": null,
   "id": "2a5a73c1-fd47-43cc-b635-1d724917491b",
   "metadata": {},
   "outputs": [],
   "source": []
  },
  {
   "cell_type": "code",
   "execution_count": null,
   "id": "b0645fba-ce42-4b50-bc09-c970971cef9a",
   "metadata": {},
   "outputs": [],
   "source": []
  },
  {
   "cell_type": "code",
   "execution_count": 42,
   "id": "d92ed46e-e538-4d65-99b7-7e3688fee1a1",
   "metadata": {},
   "outputs": [],
   "source": [
    "# Q6. Write a python program to find palindromes in the given list of strings using lambda and filter\n",
    "# function.\n",
    "# ['python', 'php', 'aba', 'radar', 'level']"
   ]
  },
  {
   "cell_type": "code",
   "execution_count": 43,
   "id": "a4fcf636-ef12-4761-97a2-27eda5f3d3ab",
   "metadata": {},
   "outputs": [],
   "source": [
    "# Ans. 6)"
   ]
  },
  {
   "cell_type": "code",
   "execution_count": 48,
   "id": "deb28b51-a6d8-4a8c-a18b-3a5f756fe1e4",
   "metadata": {},
   "outputs": [
    {
     "name": "stdout",
     "output_type": "stream",
     "text": [
      "['php', 'aba', 'radar', 'level']\n"
     ]
    }
   ],
   "source": [
    "lst1 = ['python', 'php', 'aba', 'radar', 'level']\n",
    "\n",
    "lst2 = list(filter(lambda x : x == x[::-1] , lst1))\n",
    "\n",
    "print(lst2)"
   ]
  },
  {
   "cell_type": "code",
   "execution_count": null,
   "id": "5b546259-7a70-4cc1-9376-6a5c8c5f263b",
   "metadata": {},
   "outputs": [],
   "source": []
  }
 ],
 "metadata": {
  "kernelspec": {
   "display_name": "Python 3 (ipykernel)",
   "language": "python",
   "name": "python3"
  },
  "language_info": {
   "codemirror_mode": {
    "name": "ipython",
    "version": 3
   },
   "file_extension": ".py",
   "mimetype": "text/x-python",
   "name": "python",
   "nbconvert_exporter": "python",
   "pygments_lexer": "ipython3",
   "version": "3.10.8"
  }
 },
 "nbformat": 4,
 "nbformat_minor": 5
}
